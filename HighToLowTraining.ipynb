{
 "cells": [
  {
   "cell_type": "code",
   "execution_count": 1,
   "metadata": {},
   "outputs": [],
   "source": [
    "%matplotlib inline\n",
    "from IPython.core.interactiveshell import InteractiveShell\n",
    "InteractiveShell.ast_node_interactivity = \"all\"\n",
    "import os\n",
    "import numpy as np\n",
    "import torch\n",
    "import torch.nn as nn\n",
    "import torch.optim as optim\n",
    "import torchvision.utils as vutils\n",
    "from matplotlib import pyplot as plt\n",
    "from IPython import display\n",
    "import torchvision.transforms as transforms\n",
    "from torch.utils.data import DataLoader,Dataset\n",
    "from PIL import Image\n",
    "import time"
   ]
  },
  {
   "cell_type": "code",
   "execution_count": 2,
   "metadata": {},
   "outputs": [
    {
     "data": {
      "text/plain": [
       "<torch._C.Generator at 0x7f7e541490b0>"
      ]
     },
     "execution_count": 2,
     "metadata": {},
     "output_type": "execute_result"
    }
   ],
   "source": [
    "# For both cpu and gpu integration all the variables and models should use\n",
    "# \"xx.to(device)\"  \n",
    "device = torch.device('cuda:0' if torch.cuda.is_available() else 'cpu')\n",
    "# Basic parameters for reproducablity\n",
    "\n",
    "seed = 1\n",
    "torch.manual_seed(seed)\n",
    "torch.cuda.manual_seed(seed)\n",
    "torch.cuda.manual_seed_all(seed)\n",
    "np.random.seed(seed)\n",
    "\n",
    "if device == \"cuda:0\": \n",
    "    torch.cuda.manual_seed_all(1) # gpu vars\n",
    "\n",
    "    # Dataset paths\n",
    "celea_dataset = \"Dataset/HIGH/celea_60000_SFD\"\n",
    "sr_dataset = \"Dataset/HIGH/SRtrainset_2\"\n",
    "vgg_dataset = \"Dataset/HIGH/vggface2/vggcrop_train\"\n",
    "\n",
    "# Model saving paths\n",
    "hightolow_generator = \"Checkpoint/hightolow_g_\"\n",
    "hightolow_discriminator = \"Checkpoint/hightolow_d_\""
   ]
  },
  {
   "cell_type": "code",
   "execution_count": 9,
   "metadata": {},
   "outputs": [],
   "source": [
    "# All the parameters and dynamic numbers will be setted here\n",
    "hightolow_batch_size = 8 \n",
    "epoch = 200\n",
    "learning_rate = 1e-4\n",
    "loss_a_coeff = 1\n",
    "loss_b_coeff = 0.05\n",
    "adam_beta1 = 0\n",
    "adam_beta2 = 0.9\n",
    "# After each this value of iterations generator will be updated\n",
    "# In original paper it is 5:1\n",
    "generator_update_ratio = 5 \n",
    "# Save the generated images after some interval\n",
    "# to visualize the progress\n",
    "sample_images = 400\n",
    "\n",
    "high_image_size = 64\n",
    "low_image_size = 16\n",
    "noise_dimension = 64"
   ]
  },
  {
   "cell_type": "code",
   "execution_count": 8,
   "metadata": {},
   "outputs": [],
   "source": [
    "def save_checkpoint(model_path,epoch,model,optimizer,loss):\n",
    "    torch.save({\n",
    "            'epoch': epoch,\n",
    "            'model_state_dict': model.state_dict(),\n",
    "            'optimizer_state_dict': optimizer.state_dict(),\n",
    "            'loss': loss,\n",
    "            },  model_path + epoch)\n",
    "\n",
    "# TODO: Instead of using function to load paste these codes to main loop    \n",
    "def load_checkpoint(model_path,epoch):\n",
    "    checkpoint = torch.load(model_path)\n",
    "    \n",
    "    model.load_state_dict(checkpoint['model_state_dict'])\n",
    "    optimizer.load_state_dict(checkpoint['optimizer_state_dict'])\n",
    "    epoch = checkpoint['epoch']\n",
    "    loss = checkpoint['loss']\n",
    "\n",
    "    model.eval()\n",
    "    # - or -\n",
    "    model.train()\n",
    "    \n",
    "def batch_to_image(batch):\n",
    "    np_grid = vutils.make_grid(batch).numpy()\n",
    "    plt.imshow(np.transpose(np_grid, (1,2,0)), interpolation='nearest')\n",
    "    \n",
    "# Noise distrubition sampled from normal distribution\n",
    "def create_noise():\n",
    "    return torch.randn(hightolow_batch_size,64)\n",
    "\n",
    "def calculate_remaining_training_time(batches done,batches_left):\n",
    "    #batches_done = epoch * len(dataloader) + i\n",
    "    #batches_left = opt.n_epochs * len(dataloader) - batches_done\n",
    "    #time_left = datetime.timedelta(seconds=batches_left * (time.time() - prev_time))"
   ]
  },
  {
   "cell_type": "code",
   "execution_count": 5,
   "metadata": {},
   "outputs": [],
   "source": [
    "# Dataset for high images\n",
    "def load_image(path):\n",
    "    return Image.open(path)\n",
    "\n",
    "# This dataset use the image datasets where images\n",
    "# are located on the dataset folder and this\n",
    "# Generic dataset should be customized according to the dataset\n",
    "# csv based dataset require different loading function\n",
    "\n",
    "class HighDataset(Dataset):\n",
    "    \"\"\" Initialize the dataset by giving the dataset path and transform that will be applied \"\"\"\n",
    "    def __init__(self,transform = None):\n",
    "        images = []\n",
    "        celea_subjects = [subject for subject in os.listdir(celea_dataset)]\n",
    "        sr_subjects = [subject for subject in os.listdir(sr_dataset)]\n",
    "        vgg_subjects = [subject for subject in os.listdir(vgg_dataset)]\n",
    "        \n",
    "        for subject in celea_subjects:\n",
    "            images.append(os.path.join(celea_dataset,subject))\n",
    "\n",
    "        for subject in sr_subjects:\n",
    "            images.append(os.path.join(sr_subjects,subject))\n",
    "                              \n",
    "        for subject in celea_subjects:\n",
    "            images.append(os.path.join(vgg_subjects,subject))\n",
    "        \n",
    "                              \n",
    "        self.images = images\n",
    "        self.transform = transform\n",
    "        self.count = len(images)\n",
    "        \n",
    "\n",
    "    \"\"\" Image with given index will be loaded by using the image path \"\"\"\n",
    "    def __getitem__(self, index):\n",
    "        image_path = self.images[index]\n",
    "        image = load_image(image_path)\n",
    "        if self.transform is not None:\n",
    "            image = self.transform(image)\n",
    "\n",
    "        return image\n",
    "\n",
    "    def __len__(self):\n",
    "        return self.count"
   ]
  },
  {
   "cell_type": "code",
   "execution_count": 6,
   "metadata": {},
   "outputs": [],
   "source": [
    "transform = transforms.Compose([transforms.ToTensor(),\n",
    "                                transforms.Normalize((0.5, 0.5, 0.5), (0.5, 0.5, 0.5))])\n",
    "dataset = HighDataset(transform)\n",
    "data_loader = DataLoader(dataset,batch_size = hightolow_batch_size)"
   ]
  },
  {
   "cell_type": "code",
   "execution_count": 7,
   "metadata": {
    "scrolled": true
   },
   "outputs": [],
   "source": [
    "class HighToLowGenerator(nn.Module):\n",
    "    def __init__(self):\n",
    "        super(HighToLowGenerator, self).__init__()\n",
    "        GANLoss = \n",
    "        "
   ]
  },
  {
   "cell_type": "code",
   "execution_count": null,
   "metadata": {},
   "outputs": [],
   "source": [
    "# Training loop\n",
    "start_time = time.time()\n",
    "\n",
    "for cur_epoch in range(epoch):\n",
    "    for i, batch in enumerate(dataloader):\n",
    "        \n",
    "        # Train discriminator with real\n",
    "        \n",
    "        # Train discriminator with fake\n",
    "        \n",
    "        # Train generator if ratio is reached\n",
    "        if i % generator_update_ratio == 0:\n",
    "            # Train it\n",
    "            \n",
    "            # Log the progress\n",
    "            # Calculate remaining time\n",
    "            sys.stdout.write(\n",
    "                \"\\r[Epoch %d/%d] [Batch %d/%d] [D adv: %f, aux: %f] [G loss: %f, adv: %f, aux: %f, cycle: %f] ETA: %s\"\n",
    "                % (\n",
    "                    epoch,\n",
    "                    opt.n_epochs,\n",
    "                    i,\n",
    "                    len(dataloader),\n",
    "                    time_left,\n",
    "                )\n",
    "            )\n",
    "\n",
    "            # If at sample interval sample and save image\n",
    "            if batches_done % sample_interval == 0:\n",
    "                sample_images(batches_done)"
   ]
  }
 ],
 "metadata": {
  "kernelspec": {
   "display_name": "Python 3",
   "language": "python",
   "name": "python3"
  },
  "language_info": {
   "codemirror_mode": {
    "name": "ipython",
    "version": 3
   },
   "file_extension": ".py",
   "mimetype": "text/x-python",
   "name": "python",
   "nbconvert_exporter": "python",
   "pygments_lexer": "ipython3",
   "version": "3.6.9"
  }
 },
 "nbformat": 4,
 "nbformat_minor": 2
}
